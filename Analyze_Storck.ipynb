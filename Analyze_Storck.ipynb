{
  "nbformat": 4,
  "nbformat_minor": 0,
  "metadata": {
    "colab": {
      "provenance": [],
      "cell_execution_strategy": "setup",
      "authorship_tag": "ABX9TyMopfUeM1gvMP0Pasl+GXxP",
      "include_colab_link": true
    },
    "kernelspec": {
      "name": "python3",
      "display_name": "Python 3"
    },
    "language_info": {
      "name": "python"
    }
  },
  "cells": [
    {
      "cell_type": "markdown",
      "metadata": {
        "id": "view-in-github",
        "colab_type": "text"
      },
      "source": [
        "<a href=\"https://colab.research.google.com/github/ben854719/Biometric-Aware-Fraud-Risk-Dashboard-with-Agentic-AI/blob/main/Analyze_Storck.ipynb\" target=\"_parent\"><img src=\"https://colab.research.google.com/assets/colab-badge.svg\" alt=\"Open In Colab\"/></a>"
      ]
    },
    {
      "cell_type": "code",
      "execution_count": 1,
      "metadata": {
        "colab": {
          "base_uri": "https://localhost:8080/"
        },
        "id": "7Bq8fxIoLj8T",
        "outputId": "644ff311-51b2-4a1b-dd9b-5c29e6e33959"
      },
      "outputs": [
        {
          "output_type": "stream",
          "name": "stdout",
          "text": [
            "Requirement already satisfied: polars in /usr/local/lib/python3.12/dist-packages (1.25.2)\n"
          ]
        }
      ],
      "source": [
        "!pip install polars"
      ]
    },
    {
      "cell_type": "code",
      "source": [
        "import polars as pl\n",
        "\n",
        "# Import the dataset for the stock.\n",
        "INDEX_CA_XTSE_GSPTSE = pl.read_csv('INDEX_CA_XTSE_GSPTSE.csv')\n",
        "display(INDEX_CA_XTSE_GSPTSE.head(22))"
      ],
      "metadata": {
        "colab": {
          "base_uri": "https://localhost:8080/",
          "height": 443
        },
        "id": "lt9EEU3rMTle",
        "outputId": "3d934ab5-de4b-43a3-f8be-21551ea54344"
      },
      "execution_count": 7,
      "outputs": [
        {
          "output_type": "display_data",
          "data": {
            "text/plain": [
              "shape: (20, 5)\n",
              "┌────────────┬───────────┬───────────┬───────────┬───────────┐\n",
              "│ Date       ┆ Open      ┆ High      ┆ Low       ┆ Close     │\n",
              "│ ---        ┆ ---       ┆ ---       ┆ ---       ┆ ---       │\n",
              "│ str        ┆ str       ┆ str       ┆ str       ┆ str       │\n",
              "╞════════════╪═══════════╪═══════════╪═══════════╪═══════════╡\n",
              "│ 10/27/2025 ┆ 30,315.62 ┆ 30,386.62 ┆ 30,087.48 ┆ 30,275.76 │\n",
              "│ 10/24/2025 ┆ 30,248.69 ┆ 30,411.32 ┆ 30,248.69 ┆ 30,353.07 │\n",
              "│ 10/23/2025 ┆ 30,097.49 ┆ 30,266.54 ┆ 30,094.92 ┆ 30,186.28 │\n",
              "│ 10/22/2025 ┆ 29,818.20 ┆ 30,036.85 ┆ 29,802.49 ┆ 29,982.98 │\n",
              "│ 10/21/2025 ┆ 30,214.14 ┆ 30,214.14 ┆ 29,837.55 ┆ 29,888.82 │\n",
              "│ …          ┆ …         ┆ …         ┆ …         ┆ …         │\n",
              "│ 10/03/2025 ┆ 30,205.05 ┆ 30,490.04 ┆ 30,205.05 ┆ 30,471.68 │\n",
              "│ 10/02/2025 ┆ 30,172.84 ┆ 30,183.11 ┆ 29,903.08 ┆ 30,160.59 │\n",
              "│ 10/01/2025 ┆ 30,006.44 ┆ 30,182.57 ┆ 30,006.44 ┆ 30,107.67 │\n",
              "│ 09/30/2025 ┆ 29,930.71 ┆ 30,049.81 ┆ 29,837.25 ┆ 30,022.81 │\n",
              "│ 09/29/2025 ┆ 29,856.51 ┆ 29,980.48 ┆ 29,856.51 ┆ 29,971.91 │\n",
              "└────────────┴───────────┴───────────┴───────────┴───────────┘"
            ],
            "text/html": [
              "<div><style>\n",
              ".dataframe > thead > tr,\n",
              ".dataframe > tbody > tr {\n",
              "  text-align: right;\n",
              "  white-space: pre-wrap;\n",
              "}\n",
              "</style>\n",
              "<small>shape: (20, 5)</small><table border=\"1\" class=\"dataframe\"><thead><tr><th>Date</th><th>Open</th><th>High</th><th>Low</th><th>Close</th></tr><tr><td>str</td><td>str</td><td>str</td><td>str</td><td>str</td></tr></thead><tbody><tr><td>&quot;10/27/2025&quot;</td><td>&quot;30,315.62&quot;</td><td>&quot;30,386.62&quot;</td><td>&quot;30,087.48&quot;</td><td>&quot;30,275.76&quot;</td></tr><tr><td>&quot;10/24/2025&quot;</td><td>&quot;30,248.69&quot;</td><td>&quot;30,411.32&quot;</td><td>&quot;30,248.69&quot;</td><td>&quot;30,353.07&quot;</td></tr><tr><td>&quot;10/23/2025&quot;</td><td>&quot;30,097.49&quot;</td><td>&quot;30,266.54&quot;</td><td>&quot;30,094.92&quot;</td><td>&quot;30,186.28&quot;</td></tr><tr><td>&quot;10/22/2025&quot;</td><td>&quot;29,818.20&quot;</td><td>&quot;30,036.85&quot;</td><td>&quot;29,802.49&quot;</td><td>&quot;29,982.98&quot;</td></tr><tr><td>&quot;10/21/2025&quot;</td><td>&quot;30,214.14&quot;</td><td>&quot;30,214.14&quot;</td><td>&quot;29,837.55&quot;</td><td>&quot;29,888.82&quot;</td></tr><tr><td>&hellip;</td><td>&hellip;</td><td>&hellip;</td><td>&hellip;</td><td>&hellip;</td></tr><tr><td>&quot;10/03/2025&quot;</td><td>&quot;30,205.05&quot;</td><td>&quot;30,490.04&quot;</td><td>&quot;30,205.05&quot;</td><td>&quot;30,471.68&quot;</td></tr><tr><td>&quot;10/02/2025&quot;</td><td>&quot;30,172.84&quot;</td><td>&quot;30,183.11&quot;</td><td>&quot;29,903.08&quot;</td><td>&quot;30,160.59&quot;</td></tr><tr><td>&quot;10/01/2025&quot;</td><td>&quot;30,006.44&quot;</td><td>&quot;30,182.57&quot;</td><td>&quot;30,006.44&quot;</td><td>&quot;30,107.67&quot;</td></tr><tr><td>&quot;09/30/2025&quot;</td><td>&quot;29,930.71&quot;</td><td>&quot;30,049.81&quot;</td><td>&quot;29,837.25&quot;</td><td>&quot;30,022.81&quot;</td></tr><tr><td>&quot;09/29/2025&quot;</td><td>&quot;29,856.51&quot;</td><td>&quot;29,980.48&quot;</td><td>&quot;29,856.51&quot;</td><td>&quot;29,971.91&quot;</td></tr></tbody></table></div>"
            ]
          },
          "metadata": {}
        }
      ]
    },
    {
      "cell_type": "code",
      "metadata": {
        "colab": {
          "base_uri": "https://localhost:8080/",
          "height": 255
        },
        "id": "b8798855",
        "outputId": "446783ab-4894-4050-f15b-3a56b398e645"
      },
      "source": [
        "INDEX_CA_XTSE_GSPTSE = INDEX_CA_XTSE_GSPTSE.with_columns(\n",
        "    pl.col(\"Date\").str.strptime(pl.Datetime, \"%m/%d/%Y\")\n",
        ")\n",
        "display(INDEX_CA_XTSE_GSPTSE.head())"
      ],
      "execution_count": 8,
      "outputs": [
        {
          "output_type": "display_data",
          "data": {
            "text/plain": [
              "shape: (5, 5)\n",
              "┌─────────────────────┬───────────┬───────────┬───────────┬───────────┐\n",
              "│ Date                ┆ Open      ┆ High      ┆ Low       ┆ Close     │\n",
              "│ ---                 ┆ ---       ┆ ---       ┆ ---       ┆ ---       │\n",
              "│ datetime[μs]        ┆ str       ┆ str       ┆ str       ┆ str       │\n",
              "╞═════════════════════╪═══════════╪═══════════╪═══════════╪═══════════╡\n",
              "│ 2025-10-27 00:00:00 ┆ 30,315.62 ┆ 30,386.62 ┆ 30,087.48 ┆ 30,275.76 │\n",
              "│ 2025-10-24 00:00:00 ┆ 30,248.69 ┆ 30,411.32 ┆ 30,248.69 ┆ 30,353.07 │\n",
              "│ 2025-10-23 00:00:00 ┆ 30,097.49 ┆ 30,266.54 ┆ 30,094.92 ┆ 30,186.28 │\n",
              "│ 2025-10-22 00:00:00 ┆ 29,818.20 ┆ 30,036.85 ┆ 29,802.49 ┆ 29,982.98 │\n",
              "│ 2025-10-21 00:00:00 ┆ 30,214.14 ┆ 30,214.14 ┆ 29,837.55 ┆ 29,888.82 │\n",
              "└─────────────────────┴───────────┴───────────┴───────────┴───────────┘"
            ],
            "text/html": [
              "<div><style>\n",
              ".dataframe > thead > tr,\n",
              ".dataframe > tbody > tr {\n",
              "  text-align: right;\n",
              "  white-space: pre-wrap;\n",
              "}\n",
              "</style>\n",
              "<small>shape: (5, 5)</small><table border=\"1\" class=\"dataframe\"><thead><tr><th>Date</th><th>Open</th><th>High</th><th>Low</th><th>Close</th></tr><tr><td>datetime[μs]</td><td>str</td><td>str</td><td>str</td><td>str</td></tr></thead><tbody><tr><td>2025-10-27 00:00:00</td><td>&quot;30,315.62&quot;</td><td>&quot;30,386.62&quot;</td><td>&quot;30,087.48&quot;</td><td>&quot;30,275.76&quot;</td></tr><tr><td>2025-10-24 00:00:00</td><td>&quot;30,248.69&quot;</td><td>&quot;30,411.32&quot;</td><td>&quot;30,248.69&quot;</td><td>&quot;30,353.07&quot;</td></tr><tr><td>2025-10-23 00:00:00</td><td>&quot;30,097.49&quot;</td><td>&quot;30,266.54&quot;</td><td>&quot;30,094.92&quot;</td><td>&quot;30,186.28&quot;</td></tr><tr><td>2025-10-22 00:00:00</td><td>&quot;29,818.20&quot;</td><td>&quot;30,036.85&quot;</td><td>&quot;29,802.49&quot;</td><td>&quot;29,982.98&quot;</td></tr><tr><td>2025-10-21 00:00:00</td><td>&quot;30,214.14&quot;</td><td>&quot;30,214.14&quot;</td><td>&quot;29,837.55&quot;</td><td>&quot;29,888.82&quot;</td></tr></tbody></table></div>"
            ]
          },
          "metadata": {}
        }
      ]
    },
    {
      "cell_type": "code",
      "metadata": {
        "colab": {
          "base_uri": "https://localhost:8080/",
          "height": 255
        },
        "id": "3546efa7",
        "outputId": "b29903b0-32c4-4284-d437-b55ac1ac8a7b"
      },
      "source": [
        "INDEX_CA_XTSE_GSPTSE = INDEX_CA_XTSE_GSPTSE.with_columns([\n",
        "    pl.col(\"Open\").str.replace_all(\",\", \"\"),\n",
        "    pl.col(\"High\").str.replace_all(\",\", \"\"),\n",
        "    pl.col(\"Low\").str.replace_all(\",\", \"\"),\n",
        "    pl.col(\"Close\").str.replace_all(\",\", \"\")\n",
        "])\n",
        "display(INDEX_CA_XTSE_GSPTSE.head())"
      ],
      "execution_count": 9,
      "outputs": [
        {
          "output_type": "display_data",
          "data": {
            "text/plain": [
              "shape: (5, 5)\n",
              "┌─────────────────────┬──────────┬──────────┬──────────┬──────────┐\n",
              "│ Date                ┆ Open     ┆ High     ┆ Low      ┆ Close    │\n",
              "│ ---                 ┆ ---      ┆ ---      ┆ ---      ┆ ---      │\n",
              "│ datetime[μs]        ┆ str      ┆ str      ┆ str      ┆ str      │\n",
              "╞═════════════════════╪══════════╪══════════╪══════════╪══════════╡\n",
              "│ 2025-10-27 00:00:00 ┆ 30315.62 ┆ 30386.62 ┆ 30087.48 ┆ 30275.76 │\n",
              "│ 2025-10-24 00:00:00 ┆ 30248.69 ┆ 30411.32 ┆ 30248.69 ┆ 30353.07 │\n",
              "│ 2025-10-23 00:00:00 ┆ 30097.49 ┆ 30266.54 ┆ 30094.92 ┆ 30186.28 │\n",
              "│ 2025-10-22 00:00:00 ┆ 29818.20 ┆ 30036.85 ┆ 29802.49 ┆ 29982.98 │\n",
              "│ 2025-10-21 00:00:00 ┆ 30214.14 ┆ 30214.14 ┆ 29837.55 ┆ 29888.82 │\n",
              "└─────────────────────┴──────────┴──────────┴──────────┴──────────┘"
            ],
            "text/html": [
              "<div><style>\n",
              ".dataframe > thead > tr,\n",
              ".dataframe > tbody > tr {\n",
              "  text-align: right;\n",
              "  white-space: pre-wrap;\n",
              "}\n",
              "</style>\n",
              "<small>shape: (5, 5)</small><table border=\"1\" class=\"dataframe\"><thead><tr><th>Date</th><th>Open</th><th>High</th><th>Low</th><th>Close</th></tr><tr><td>datetime[μs]</td><td>str</td><td>str</td><td>str</td><td>str</td></tr></thead><tbody><tr><td>2025-10-27 00:00:00</td><td>&quot;30315.62&quot;</td><td>&quot;30386.62&quot;</td><td>&quot;30087.48&quot;</td><td>&quot;30275.76&quot;</td></tr><tr><td>2025-10-24 00:00:00</td><td>&quot;30248.69&quot;</td><td>&quot;30411.32&quot;</td><td>&quot;30248.69&quot;</td><td>&quot;30353.07&quot;</td></tr><tr><td>2025-10-23 00:00:00</td><td>&quot;30097.49&quot;</td><td>&quot;30266.54&quot;</td><td>&quot;30094.92&quot;</td><td>&quot;30186.28&quot;</td></tr><tr><td>2025-10-22 00:00:00</td><td>&quot;29818.20&quot;</td><td>&quot;30036.85&quot;</td><td>&quot;29802.49&quot;</td><td>&quot;29982.98&quot;</td></tr><tr><td>2025-10-21 00:00:00</td><td>&quot;30214.14&quot;</td><td>&quot;30214.14&quot;</td><td>&quot;29837.55&quot;</td><td>&quot;29888.82&quot;</td></tr></tbody></table></div>"
            ]
          },
          "metadata": {}
        }
      ]
    },
    {
      "cell_type": "code",
      "metadata": {
        "colab": {
          "base_uri": "https://localhost:8080/",
          "height": 255
        },
        "id": "7d309e23",
        "outputId": "da29d41e-eb96-4ddd-cfe2-9379366311c4"
      },
      "source": [
        "INDEX_CA_XTSE_GSPTSE = INDEX_CA_XTSE_GSPTSE.with_columns([\n",
        "    pl.col(\"Open\").cast(pl.Float64),\n",
        "    pl.col(\"High\").cast(pl.Float64),\n",
        "    pl.col(\"Low\").cast(pl.Float64),\n",
        "    pl.col(\"Close\").cast(pl.Float64)\n",
        "])\n",
        "display(INDEX_CA_XTSE_GSPTSE.head())"
      ],
      "execution_count": 10,
      "outputs": [
        {
          "output_type": "display_data",
          "data": {
            "text/plain": [
              "shape: (5, 5)\n",
              "┌─────────────────────┬──────────┬──────────┬──────────┬──────────┐\n",
              "│ Date                ┆ Open     ┆ High     ┆ Low      ┆ Close    │\n",
              "│ ---                 ┆ ---      ┆ ---      ┆ ---      ┆ ---      │\n",
              "│ datetime[μs]        ┆ f64      ┆ f64      ┆ f64      ┆ f64      │\n",
              "╞═════════════════════╪══════════╪══════════╪══════════╪══════════╡\n",
              "│ 2025-10-27 00:00:00 ┆ 30315.62 ┆ 30386.62 ┆ 30087.48 ┆ 30275.76 │\n",
              "│ 2025-10-24 00:00:00 ┆ 30248.69 ┆ 30411.32 ┆ 30248.69 ┆ 30353.07 │\n",
              "│ 2025-10-23 00:00:00 ┆ 30097.49 ┆ 30266.54 ┆ 30094.92 ┆ 30186.28 │\n",
              "│ 2025-10-22 00:00:00 ┆ 29818.2  ┆ 30036.85 ┆ 29802.49 ┆ 29982.98 │\n",
              "│ 2025-10-21 00:00:00 ┆ 30214.14 ┆ 30214.14 ┆ 29837.55 ┆ 29888.82 │\n",
              "└─────────────────────┴──────────┴──────────┴──────────┴──────────┘"
            ],
            "text/html": [
              "<div><style>\n",
              ".dataframe > thead > tr,\n",
              ".dataframe > tbody > tr {\n",
              "  text-align: right;\n",
              "  white-space: pre-wrap;\n",
              "}\n",
              "</style>\n",
              "<small>shape: (5, 5)</small><table border=\"1\" class=\"dataframe\"><thead><tr><th>Date</th><th>Open</th><th>High</th><th>Low</th><th>Close</th></tr><tr><td>datetime[μs]</td><td>f64</td><td>f64</td><td>f64</td><td>f64</td></tr></thead><tbody><tr><td>2025-10-27 00:00:00</td><td>30315.62</td><td>30386.62</td><td>30087.48</td><td>30275.76</td></tr><tr><td>2025-10-24 00:00:00</td><td>30248.69</td><td>30411.32</td><td>30248.69</td><td>30353.07</td></tr><tr><td>2025-10-23 00:00:00</td><td>30097.49</td><td>30266.54</td><td>30094.92</td><td>30186.28</td></tr><tr><td>2025-10-22 00:00:00</td><td>29818.2</td><td>30036.85</td><td>29802.49</td><td>29982.98</td></tr><tr><td>2025-10-21 00:00:00</td><td>30214.14</td><td>30214.14</td><td>29837.55</td><td>29888.82</td></tr></tbody></table></div>"
            ]
          },
          "metadata": {}
        }
      ]
    },
    {
      "cell_type": "code",
      "source": [
        "# Remove any duplication in the dataset.\n",
        "INDEX_CA_XTSE_GSPTSE = INDEX_CA_XTSE_GSPTSE.unique()\n",
        "display(INDEX_CA_XTSE_GSPTSE.head())"
      ],
      "metadata": {
        "colab": {
          "base_uri": "https://localhost:8080/",
          "height": 255
        },
        "id": "Ll4ETkNaOE-g",
        "outputId": "9d74f85f-2654-4c16-def6-5b8366c5bb32"
      },
      "execution_count": 12,
      "outputs": [
        {
          "output_type": "display_data",
          "data": {
            "text/plain": [
              "shape: (5, 5)\n",
              "┌─────────────────────┬──────────┬──────────┬──────────┬──────────┐\n",
              "│ Date                ┆ Open     ┆ High     ┆ Low      ┆ Close    │\n",
              "│ ---                 ┆ ---      ┆ ---      ┆ ---      ┆ ---      │\n",
              "│ datetime[μs]        ┆ f64      ┆ f64      ┆ f64      ┆ f64      │\n",
              "╞═════════════════════╪══════════╪══════════╪══════════╪══════════╡\n",
              "│ 2025-09-29 00:00:00 ┆ 29856.51 ┆ 29980.48 ┆ 29856.51 ┆ 29971.91 │\n",
              "│ 2025-10-08 00:00:00 ┆ 30492.2  ┆ 30521.01 ┆ 30365.8  ┆ 30501.99 │\n",
              "│ 2025-10-14 00:00:00 ┆ 29907.89 ┆ 30478.01 ┆ 29907.89 ┆ 30353.61 │\n",
              "│ 2025-10-10 00:00:00 ┆ 30324.16 ┆ 30358.74 ┆ 29842.01 ┆ 29850.89 │\n",
              "│ 2025-09-30 00:00:00 ┆ 29930.71 ┆ 30049.81 ┆ 29837.25 ┆ 30022.81 │\n",
              "└─────────────────────┴──────────┴──────────┴──────────┴──────────┘"
            ],
            "text/html": [
              "<div><style>\n",
              ".dataframe > thead > tr,\n",
              ".dataframe > tbody > tr {\n",
              "  text-align: right;\n",
              "  white-space: pre-wrap;\n",
              "}\n",
              "</style>\n",
              "<small>shape: (5, 5)</small><table border=\"1\" class=\"dataframe\"><thead><tr><th>Date</th><th>Open</th><th>High</th><th>Low</th><th>Close</th></tr><tr><td>datetime[μs]</td><td>f64</td><td>f64</td><td>f64</td><td>f64</td></tr></thead><tbody><tr><td>2025-09-29 00:00:00</td><td>29856.51</td><td>29980.48</td><td>29856.51</td><td>29971.91</td></tr><tr><td>2025-10-08 00:00:00</td><td>30492.2</td><td>30521.01</td><td>30365.8</td><td>30501.99</td></tr><tr><td>2025-10-14 00:00:00</td><td>29907.89</td><td>30478.01</td><td>29907.89</td><td>30353.61</td></tr><tr><td>2025-10-10 00:00:00</td><td>30324.16</td><td>30358.74</td><td>29842.01</td><td>29850.89</td></tr><tr><td>2025-09-30 00:00:00</td><td>29930.71</td><td>30049.81</td><td>29837.25</td><td>30022.81</td></tr></tbody></table></div>"
            ]
          },
          "metadata": {}
        }
      ]
    },
    {
      "cell_type": "code",
      "metadata": {
        "colab": {
          "base_uri": "https://localhost:8080/",
          "height": 255
        },
        "id": "f4854f99",
        "outputId": "42b36135-0c99-48bd-aa0f-92ae4fe1711b"
      },
      "source": [
        "# Sort the dataset by date.\n",
        "INDEX_CA_XTSE_GSPTSE = INDEX_CA_XTSE_GSPTSE.sort(\"Date\")\n",
        "display(INDEX_CA_XTSE_GSPTSE.head())"
      ],
      "execution_count": 13,
      "outputs": [
        {
          "output_type": "display_data",
          "data": {
            "text/plain": [
              "shape: (5, 5)\n",
              "┌─────────────────────┬──────────┬──────────┬──────────┬──────────┐\n",
              "│ Date                ┆ Open     ┆ High     ┆ Low      ┆ Close    │\n",
              "│ ---                 ┆ ---      ┆ ---      ┆ ---      ┆ ---      │\n",
              "│ datetime[μs]        ┆ f64      ┆ f64      ┆ f64      ┆ f64      │\n",
              "╞═════════════════════╪══════════╪══════════╪══════════╪══════════╡\n",
              "│ 2025-09-29 00:00:00 ┆ 29856.51 ┆ 29980.48 ┆ 29856.51 ┆ 29971.91 │\n",
              "│ 2025-09-30 00:00:00 ┆ 29930.71 ┆ 30049.81 ┆ 29837.25 ┆ 30022.81 │\n",
              "│ 2025-10-01 00:00:00 ┆ 30006.44 ┆ 30182.57 ┆ 30006.44 ┆ 30107.67 │\n",
              "│ 2025-10-02 00:00:00 ┆ 30172.84 ┆ 30183.11 ┆ 29903.08 ┆ 30160.59 │\n",
              "│ 2025-10-03 00:00:00 ┆ 30205.05 ┆ 30490.04 ┆ 30205.05 ┆ 30471.68 │\n",
              "└─────────────────────┴──────────┴──────────┴──────────┴──────────┘"
            ],
            "text/html": [
              "<div><style>\n",
              ".dataframe > thead > tr,\n",
              ".dataframe > tbody > tr {\n",
              "  text-align: right;\n",
              "  white-space: pre-wrap;\n",
              "}\n",
              "</style>\n",
              "<small>shape: (5, 5)</small><table border=\"1\" class=\"dataframe\"><thead><tr><th>Date</th><th>Open</th><th>High</th><th>Low</th><th>Close</th></tr><tr><td>datetime[μs]</td><td>f64</td><td>f64</td><td>f64</td><td>f64</td></tr></thead><tbody><tr><td>2025-09-29 00:00:00</td><td>29856.51</td><td>29980.48</td><td>29856.51</td><td>29971.91</td></tr><tr><td>2025-09-30 00:00:00</td><td>29930.71</td><td>30049.81</td><td>29837.25</td><td>30022.81</td></tr><tr><td>2025-10-01 00:00:00</td><td>30006.44</td><td>30182.57</td><td>30006.44</td><td>30107.67</td></tr><tr><td>2025-10-02 00:00:00</td><td>30172.84</td><td>30183.11</td><td>29903.08</td><td>30160.59</td></tr><tr><td>2025-10-03 00:00:00</td><td>30205.05</td><td>30490.04</td><td>30205.05</td><td>30471.68</td></tr></tbody></table></div>"
            ]
          },
          "metadata": {}
        }
      ]
    },
    {
      "cell_type": "code",
      "metadata": {
        "colab": {
          "base_uri": "https://localhost:8080/"
        },
        "id": "06ac789f",
        "outputId": "6072e8a2-b051-46ae-d585-18c666a5759f"
      },
      "source": [
        "# Calculate the sum of 'Open', 'High', 'Low', and 'Close' columns\n",
        "open_total = INDEX_CA_XTSE_GSPTSE[\"Open\"].sum()\n",
        "high_total = INDEX_CA_XTSE_GSPTSE[\"High\"].sum()\n",
        "low_total = INDEX_CA_XTSE_GSPTSE[\"Low\"].sum()\n",
        "close_total = INDEX_CA_XTSE_GSPTSE[\"Close\"].sum()\n",
        "\n",
        "# Display the totals\n",
        "print(f\"Total for Open column: {open_total}\")\n",
        "print(f\"Total for High column: {high_total}\")\n",
        "print(f\"Total for Low column: {low_total}\")\n",
        "print(f\"Total for Close column: {close_total}\")"
      ],
      "execution_count": 14,
      "outputs": [
        {
          "output_type": "stream",
          "name": "stdout",
          "text": [
            "Total for Open column: 605188.99\n",
            "Total for High column: 607785.0499999999\n",
            "Total for Low column: 602036.5499999999\n",
            "Total for Close column: 604902.4799999999\n"
          ]
        }
      ]
    }
  ]
}